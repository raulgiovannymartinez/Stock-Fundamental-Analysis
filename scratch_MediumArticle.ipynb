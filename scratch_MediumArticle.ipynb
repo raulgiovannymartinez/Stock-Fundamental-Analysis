{
 "cells": [
  {
   "cell_type": "markdown",
   "id": "fdde3365",
   "metadata": {},
   "source": [
    "credit: https://medium.com/fintechexplained/automating-stock-investing-fundamental-analysis-with-python-f854781ee0b4"
   ]
  },
  {
   "cell_type": "code",
   "execution_count": 1,
   "id": "590d3d27",
   "metadata": {},
   "outputs": [],
   "source": [
    "import asyncio\n",
    "import pandas\n",
    "import yahoo_fin.stock_info as si\n"
   ]
  },
  {
   "cell_type": "code",
   "execution_count": 2,
   "id": "b58de221",
   "metadata": {},
   "outputs": [],
   "source": [
    "class Company:\n",
    "    def __init__(self, symbol):\n",
    "        self.symbol = symbol\n",
    "        self.fundamental_indicators = {}\n",
    "    "
   ]
  },
  {
   "cell_type": "code",
   "execution_count": 3,
   "id": "06e051b4",
   "metadata": {},
   "outputs": [],
   "source": [
    "def to_float(val):\n",
    "    if val == 0:\n",
    "        return float(0)\n",
    "\n",
    "    val = str(val).upper()\n",
    "\n",
    "    if '%' in val:\n",
    "        return round(float(val[:-1]), 4)\n",
    "\n",
    "    m = {'K': 3, 'M': 6, 'B': 9, 'T': 12}\n",
    "\n",
    "    for key in m.keys():\n",
    "        if key in val:\n",
    "            multiplier = m.get(val[-1])\n",
    "            return round(float(val[:-1]) * (10 ** multiplier), 4)\n",
    "    return round(float(val), 4)\n",
    "\n",
    "\n",
    "def get_statatistics(symbol):\n",
    "    url = f\"https://finance.yahoo.com/quote/{symbol}/key-statistics?p={symbol}\"\n",
    "    dataframes = pandas.read_html(url)\n",
    "    return pandas.concat(dataframes[1:])\n",
    "\n",
    "def get_data_item(result, dataframe, columns):\n",
    "    for column_to_find, column_to_name in columns.items():\n",
    "        try:\n",
    "            result[column_to_name] = list((dataframe.loc[dataframe[0] == column_to_find].to_dict()[1]).values())[0]\n",
    "        except Exception as ex:\n",
    "            result[column_to_name] = 'NA'\n",
    "\n",
    "def get_last_data_item(result, dataframe, columns):\n",
    "    data = dataframe.iloc[:, :2]\n",
    "    data.columns = [\"Column\", \"Last\"]\n",
    "\n",
    "    for column_to_find, column_to_name in columns.items():\n",
    "        try:\n",
    "            val = data[data.Column.str.contains(column_to_find, case=False, regex=True)].iloc[0, 1]\n",
    "            float_val = to_float(val)\n",
    "            result[column_to_name] = float_val\n",
    "        except Exception as ex:\n",
    "            result[column_to_name] = \"NA\""
   ]
  },
  {
   "cell_type": "code",
   "execution_count": 6,
   "id": "b2dee85f",
   "metadata": {},
   "outputs": [],
   "source": [
    "async def get_fundamental_indicators_for_company(config, company):\n",
    "    company.fundmantal_indicators = {}\n",
    "\n",
    "    # Statistics Valuation\n",
    "    keys = {\n",
    "        'Market Cap (intraday) 5': 'MarketCap',\n",
    "        'Price/Sales (ttm)': 'PS',\n",
    "        'Trailing P/E': 'PE',\n",
    "        'PEG Ratio (5 yr expected) 1': 'PEG',\n",
    "        'Price/Book (mrq)': 'PB'\n",
    "     }\n",
    "    data = si.get_stats_valuation(company.symbol)\n",
    "    print(data)\n",
    "    get_data_item(company.fundamental_indicators, data, keys)\n",
    "\n",
    "    # Income statement and Balance sheet\n",
    "    data = get_statatistics(company.symbol)\n",
    "\n",
    "    get_data_item(company.fundamental_indicators, data,\n",
    "              {\n",
    "                  'Profit Margin': 'ProfitMargin',\n",
    "                  'Operating Margin (ttm)': 'OperMargin',\n",
    "                  'Current Ratio (mrq)': 'CurrentRatio',\n",
    "                  'Payout Ratio 4': 'DivPayoutRatio'\n",
    "              })\n",
    "\n",
    "    get_last_data_item(company.fundamental_indicators, data,\n",
    "           {\n",
    "               'Return on assets': 'ROA',\n",
    "               'Return on equity': 'ROE',\n",
    "               'Total cash per share': 'Cash/Share',\n",
    "               'Book value per share': 'Book/Share',\n",
    "               'Total debt/equity': 'Debt/Equity'\n",
    "           })"
   ]
  },
  {
   "cell_type": "code",
   "execution_count": 7,
   "id": "eb24f7d3",
   "metadata": {},
   "outputs": [
    {
     "name": "stdout",
     "output_type": "stream",
     "text": [
      "{}\n"
     ]
    }
   ],
   "source": [
    "config = {}\n",
    "company = Company('ROKU')\n",
    "\n",
    "# # Note: \n",
    "# #You might want to create an event loop and run within the loop:\n",
    "\n",
    "loop = asyncio.get_event_loop()\n",
    "loop.run_until_complete(get_fundamental_indicators_for_company(config, company))\n",
    "print(company.fundamental_indicators)"
   ]
  },
  {
   "cell_type": "code",
   "execution_count": null,
   "id": "bc75a9a8",
   "metadata": {},
   "outputs": [],
   "source": []
  }
 ],
 "metadata": {
  "kernelspec": {
   "display_name": "Python 3",
   "language": "python",
   "name": "python3"
  },
  "language_info": {
   "codemirror_mode": {
    "name": "ipython",
    "version": 3
   },
   "file_extension": ".py",
   "mimetype": "text/x-python",
   "name": "python",
   "nbconvert_exporter": "python",
   "pygments_lexer": "ipython3",
   "version": "3.8.8"
  },
  "toc": {
   "base_numbering": 1,
   "nav_menu": {},
   "number_sections": true,
   "sideBar": true,
   "skip_h1_title": false,
   "title_cell": "Table of Contents",
   "title_sidebar": "Contents",
   "toc_cell": false,
   "toc_position": {},
   "toc_section_display": true,
   "toc_window_display": false
  },
  "varInspector": {
   "cols": {
    "lenName": 16,
    "lenType": 16,
    "lenVar": 40
   },
   "kernels_config": {
    "python": {
     "delete_cmd_postfix": "",
     "delete_cmd_prefix": "del ",
     "library": "var_list.py",
     "varRefreshCmd": "print(var_dic_list())"
    },
    "r": {
     "delete_cmd_postfix": ") ",
     "delete_cmd_prefix": "rm(",
     "library": "var_list.r",
     "varRefreshCmd": "cat(var_dic_list()) "
    }
   },
   "types_to_exclude": [
    "module",
    "function",
    "builtin_function_or_method",
    "instance",
    "_Feature"
   ],
   "window_display": false
  }
 },
 "nbformat": 4,
 "nbformat_minor": 5
}
