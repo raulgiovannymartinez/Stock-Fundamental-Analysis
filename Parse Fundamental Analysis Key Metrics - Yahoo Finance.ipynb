{
 "cells": [
  {
   "cell_type": "markdown",
   "metadata": {},
   "source": [
    "credit: https://medium.com/fintechexplained/automating-stock-investing-fundamental-analysis-with-python-f854781ee0b4"
   ]
  },
  {
   "cell_type": "code",
   "execution_count": 11,
   "metadata": {},
   "outputs": [],
   "source": [
    "import pandas\n",
    "import yahoo_fin.stock_info as si\n"
   ]
  },
  {
   "cell_type": "code",
   "execution_count": 12,
   "metadata": {},
   "outputs": [],
   "source": [
    "class Company:\n",
    "    def __init__(self, symbol):\n",
    "        self.symbol = symbol\n",
    "        self.fundamental_indicators = {}\n",
    "    "
   ]
  },
  {
   "cell_type": "code",
   "execution_count": 13,
   "metadata": {},
   "outputs": [],
   "source": [
    "def to_float(val):\n",
    "    if val == 0:\n",
    "        return float(0)\n",
    "\n",
    "    val = str(val).upper()\n",
    "\n",
    "    if '%' in val:\n",
    "        return round(float(val[:-1]), 4)\n",
    "\n",
    "    m = {'K': 3, 'M': 6, 'B': 9, 'T': 12}\n",
    "\n",
    "    for key in m.keys():\n",
    "        if key in val:\n",
    "            multiplier = m.get(val[-1])\n",
    "            return round(float(val[:-1]) * (10 ** multiplier), 4)\n",
    "    return round(float(val), 4)\n",
    "\n",
    "\n",
    "def get_statatistics(symbol):\n",
    "    url = f\"https://finance.yahoo.com/quote/{symbol}/key-statistics?p={symbol}\"\n",
    "    dataframes = pandas.read_html(url)\n",
    "    return pandas.concat(dataframes[1:])\n",
    "\n",
    "def get_data_item(result, dataframe, columns):\n",
    "    for column_to_find, column_to_name in columns.items():\n",
    "        try:\n",
    "            result[column_to_name] = list((dataframe.loc[dataframe[0] == column_to_find].to_dict()[1]).values())[0]\n",
    "        except Exception as ex:\n",
    "            result[column_to_name] = 'NA'\n",
    "\n",
    "def get_last_data_item(result, dataframe, columns):\n",
    "    data = dataframe.iloc[:, :2]\n",
    "    data.columns = [\"Column\", \"Last\"]\n",
    "\n",
    "    for column_to_find, column_to_name in columns.items():\n",
    "        try:\n",
    "            val = data[data.Column.str.contains(column_to_find, case=False, regex=True)].iloc[0, 1]\n",
    "            float_val = to_float(val)\n",
    "            result[column_to_name] = float_val\n",
    "        except Exception as ex:\n",
    "            result[column_to_name] = \"NA\""
   ]
  },
  {
   "cell_type": "code",
   "execution_count": 14,
   "metadata": {},
   "outputs": [],
   "source": [
    "def get_fundamental_indicators_for_company(config, company):\n",
    "    company.fundmantal_indicators = {}\n",
    "\n",
    "    # Statistics Valuation\n",
    "    keys = {\n",
    "        'Market Cap (intraday) 5': 'MarketCap',\n",
    "        'Price/Sales (ttm)': 'PS',\n",
    "        'Trailing P/E': 'PE',\n",
    "        'PEG Ratio (5 yr expected) 1': 'PEG',\n",
    "        'Price/Book (mrq)': 'PB'\n",
    "     }\n",
    "    data = si.get_stats_valuation(company.symbol)\n",
    "#     print(data)\n",
    "    get_data_item(company.fundamental_indicators, data, keys)\n",
    "\n",
    "    # Income statement and Balance sheet\n",
    "    data = get_statatistics(company.symbol)\n",
    "\n",
    "    get_data_item(company.fundamental_indicators, data,\n",
    "              {\n",
    "                  'Profit Margin': 'ProfitMargin',\n",
    "                  'Operating Margin (ttm)': 'OperMargin',\n",
    "                  'Current Ratio (mrq)': 'CurrentRatio',\n",
    "                  'Payout Ratio 4': 'DivPayoutRatio'\n",
    "              })\n",
    "\n",
    "    get_last_data_item(company.fundamental_indicators, data,\n",
    "           {\n",
    "               'Return on assets': 'ROA',\n",
    "               'Return on equity': 'ROE',\n",
    "               'Total cash per share': 'Cash/Share',\n",
    "               'Book value per share': 'Book/Share',\n",
    "               'Total debt/equity': 'Debt/Equity'\n",
    "           })"
   ]
  },
  {
   "cell_type": "code",
   "execution_count": 15,
   "metadata": {},
   "outputs": [
    {
     "name": "stdout",
     "output_type": "stream",
     "text": [
      "{'MarketCap': '67.63B', 'PS': '19.47', 'PE': '108.23', 'PEG': '3.48', 'PB': '13.74', 'ProfitMargin': '18.14%', 'OperMargin': '16.04%', 'CurrentRatio': '4.45', 'DivPayoutRatio': '0.00%', 'ROA': 4.35, 'ROE': 13.18, 'Cash/Share': 31.71, 'Book/Share': 33.71, 'Debt/Equity': 58.45}\n"
     ]
    }
   ],
   "source": [
    "config = {}\n",
    "company = Company('ILMN')\n",
    "\n",
    "get_fundamental_indicators_for_company(config, company)\n",
    "print(company.fundamental_indicators)"
   ]
  },
  {
   "cell_type": "code",
   "execution_count": 10,
   "metadata": {},
   "outputs": [
    {
     "ename": "NameError",
     "evalue": "name 'si' is not defined",
     "output_type": "error",
     "traceback": [
      "\u001b[1;31m---------------------------------------------------------------------------\u001b[0m",
      "\u001b[1;31mNameError\u001b[0m                                 Traceback (most recent call last)",
      "\u001b[1;32m<ipython-input-10-cf37d59aeeac>\u001b[0m in \u001b[0;36m<module>\u001b[1;34m\u001b[0m\n\u001b[0;32m      2\u001b[0m \u001b[0mcompany\u001b[0m \u001b[1;33m=\u001b[0m \u001b[0mCompany\u001b[0m\u001b[1;33m(\u001b[0m\u001b[1;34m'TMO'\u001b[0m\u001b[1;33m)\u001b[0m\u001b[1;33m\u001b[0m\u001b[1;33m\u001b[0m\u001b[0m\n\u001b[0;32m      3\u001b[0m \u001b[1;33m\u001b[0m\u001b[0m\n\u001b[1;32m----> 4\u001b[1;33m \u001b[0mget_fundamental_indicators_for_company\u001b[0m\u001b[1;33m(\u001b[0m\u001b[0mconfig\u001b[0m\u001b[1;33m,\u001b[0m \u001b[0mcompany\u001b[0m\u001b[1;33m)\u001b[0m\u001b[1;33m\u001b[0m\u001b[1;33m\u001b[0m\u001b[0m\n\u001b[0m\u001b[0;32m      5\u001b[0m \u001b[0mprint\u001b[0m\u001b[1;33m(\u001b[0m\u001b[0mcompany\u001b[0m\u001b[1;33m.\u001b[0m\u001b[0mfundamental_indicators\u001b[0m\u001b[1;33m)\u001b[0m\u001b[1;33m\u001b[0m\u001b[1;33m\u001b[0m\u001b[0m\n",
      "\u001b[1;32m<ipython-input-8-4501252d309b>\u001b[0m in \u001b[0;36mget_fundamental_indicators_for_company\u001b[1;34m(config, company)\u001b[0m\n\u001b[0;32m     10\u001b[0m         \u001b[1;34m'Price/Book (mrq)'\u001b[0m\u001b[1;33m:\u001b[0m \u001b[1;34m'PB'\u001b[0m\u001b[1;33m\u001b[0m\u001b[1;33m\u001b[0m\u001b[0m\n\u001b[0;32m     11\u001b[0m      }\n\u001b[1;32m---> 12\u001b[1;33m     \u001b[0mdata\u001b[0m \u001b[1;33m=\u001b[0m \u001b[0msi\u001b[0m\u001b[1;33m.\u001b[0m\u001b[0mget_stats_valuation\u001b[0m\u001b[1;33m(\u001b[0m\u001b[0mcompany\u001b[0m\u001b[1;33m.\u001b[0m\u001b[0msymbol\u001b[0m\u001b[1;33m)\u001b[0m\u001b[1;33m\u001b[0m\u001b[1;33m\u001b[0m\u001b[0m\n\u001b[0m\u001b[0;32m     13\u001b[0m \u001b[1;31m#     print(data)\u001b[0m\u001b[1;33m\u001b[0m\u001b[1;33m\u001b[0m\u001b[1;33m\u001b[0m\u001b[0m\n\u001b[0;32m     14\u001b[0m     \u001b[0mget_data_item\u001b[0m\u001b[1;33m(\u001b[0m\u001b[0mcompany\u001b[0m\u001b[1;33m.\u001b[0m\u001b[0mfundamental_indicators\u001b[0m\u001b[1;33m,\u001b[0m \u001b[0mdata\u001b[0m\u001b[1;33m,\u001b[0m \u001b[0mkeys\u001b[0m\u001b[1;33m)\u001b[0m\u001b[1;33m\u001b[0m\u001b[1;33m\u001b[0m\u001b[0m\n",
      "\u001b[1;31mNameError\u001b[0m: name 'si' is not defined"
     ]
    }
   ],
   "source": [
    "config = {}\n",
    "company = Company('TMO')\n",
    "\n",
    "get_fundamental_indicators_for_company(config, company)\n",
    "print(company.fundamental_indicators)"
   ]
  },
  {
   "cell_type": "code",
   "execution_count": null,
   "metadata": {},
   "outputs": [],
   "source": []
  }
 ],
 "metadata": {
  "kernelspec": {
   "display_name": "Python 3",
   "language": "python",
   "name": "python3"
  },
  "language_info": {
   "codemirror_mode": {
    "name": "ipython",
    "version": 3
   },
   "file_extension": ".py",
   "mimetype": "text/x-python",
   "name": "python",
   "nbconvert_exporter": "python",
   "pygments_lexer": "ipython3",
   "version": "3.8.5"
  },
  "toc": {
   "base_numbering": 1,
   "nav_menu": {},
   "number_sections": true,
   "sideBar": true,
   "skip_h1_title": false,
   "title_cell": "Table of Contents",
   "title_sidebar": "Contents",
   "toc_cell": false,
   "toc_position": {},
   "toc_section_display": true,
   "toc_window_display": false
  },
  "varInspector": {
   "cols": {
    "lenName": 16,
    "lenType": 16,
    "lenVar": 40
   },
   "kernels_config": {
    "python": {
     "delete_cmd_postfix": "",
     "delete_cmd_prefix": "del ",
     "library": "var_list.py",
     "varRefreshCmd": "print(var_dic_list())"
    },
    "r": {
     "delete_cmd_postfix": ") ",
     "delete_cmd_prefix": "rm(",
     "library": "var_list.r",
     "varRefreshCmd": "cat(var_dic_list()) "
    }
   },
   "types_to_exclude": [
    "module",
    "function",
    "builtin_function_or_method",
    "instance",
    "_Feature"
   ],
   "window_display": false
  }
 },
 "nbformat": 4,
 "nbformat_minor": 5
}
